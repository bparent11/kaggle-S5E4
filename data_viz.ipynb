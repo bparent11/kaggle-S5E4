{
 "cells": [
  {
   "cell_type": "code",
   "execution_count": 10,
   "id": "a9e5d9df",
   "metadata": {},
   "outputs": [],
   "source": [
    "import pandas as pd\n",
    "import numpy as np\n",
    "import matplotlib.pyplot as plt"
   ]
  },
  {
   "cell_type": "code",
   "execution_count": 11,
   "id": "9bbb068a",
   "metadata": {},
   "outputs": [],
   "source": [
    "train = pd.read_csv('data/train.csv')\n",
    "test = pd.read_csv('data/test.csv')"
   ]
  },
  {
   "cell_type": "code",
   "execution_count": 12,
   "id": "5da3c43f",
   "metadata": {},
   "outputs": [
    {
     "data": {
      "text/plain": [
       "Index(['id', 'Podcast_Name', 'Episode_Title', 'Episode_Length_minutes',\n",
       "       'Genre', 'Host_Popularity_percentage', 'Publication_Day',\n",
       "       'Publication_Time', 'Guest_Popularity_percentage', 'Number_of_Ads',\n",
       "       'Episode_Sentiment', 'Listening_Time_minutes'],\n",
       "      dtype='object')"
      ]
     },
     "execution_count": 12,
     "metadata": {},
     "output_type": "execute_result"
    }
   ],
   "source": [
    "train.columns"
   ]
  },
  {
   "cell_type": "code",
   "execution_count": 13,
   "id": "e3ae136a",
   "metadata": {},
   "outputs": [
    {
     "data": {
      "text/plain": [
       "id                                  0\n",
       "Episode_Length_minutes          87093\n",
       "Host_Popularity_percentage          0\n",
       "Guest_Popularity_percentage    146030\n",
       "Number_of_Ads                       1\n",
       "Listening_Time_minutes              0\n",
       "dtype: int64"
      ]
     },
     "execution_count": 13,
     "metadata": {},
     "output_type": "execute_result"
    }
   ],
   "source": [
    "train.select_dtypes(exclude='object').isna().sum()"
   ]
  },
  {
   "cell_type": "code",
   "execution_count": 14,
   "id": "42c12346",
   "metadata": {},
   "outputs": [
    {
     "data": {
      "text/plain": [
       "2568"
      ]
     },
     "execution_count": 14,
     "metadata": {},
     "output_type": "execute_result"
    }
   ],
   "source": [
    "len(train.loc[train['Episode_Length_minutes'] < train['Listening_Time_minutes'], \"id\"])"
   ]
  },
  {
   "cell_type": "code",
   "execution_count": 16,
   "id": "a74ebcef",
   "metadata": {},
   "outputs": [],
   "source": [
    "train['Episode_Title'] = train['Episode_Title'].apply(lambda x: x.split(' ')[1])"
   ]
  },
  {
   "cell_type": "code",
   "execution_count": 19,
   "id": "21716aa5",
   "metadata": {},
   "outputs": [],
   "source": [
    "train['Episode_Title'] = pd.to_numeric(train['Episode_Title'])"
   ]
  },
  {
   "cell_type": "code",
   "execution_count": 20,
   "id": "8b1e0fcf",
   "metadata": {},
   "outputs": [
    {
     "data": {
      "text/html": [
       "<div>\n",
       "<style scoped>\n",
       "    .dataframe tbody tr th:only-of-type {\n",
       "        vertical-align: middle;\n",
       "    }\n",
       "\n",
       "    .dataframe tbody tr th {\n",
       "        vertical-align: top;\n",
       "    }\n",
       "\n",
       "    .dataframe thead th {\n",
       "        text-align: right;\n",
       "    }\n",
       "</style>\n",
       "<table border=\"1\" class=\"dataframe\">\n",
       "  <thead>\n",
       "    <tr style=\"text-align: right;\">\n",
       "      <th></th>\n",
       "      <th>Episode_Title</th>\n",
       "      <th>Listening_Time_minutes</th>\n",
       "    </tr>\n",
       "    <tr>\n",
       "      <th>Number_of_Ads</th>\n",
       "      <th></th>\n",
       "      <th></th>\n",
       "    </tr>\n",
       "  </thead>\n",
       "  <tbody>\n",
       "    <tr>\n",
       "      <th>0.00</th>\n",
       "      <td>51.183623</td>\n",
       "      <td>49.073105</td>\n",
       "    </tr>\n",
       "    <tr>\n",
       "      <th>1.00</th>\n",
       "      <td>51.480140</td>\n",
       "      <td>47.273397</td>\n",
       "    </tr>\n",
       "    <tr>\n",
       "      <th>2.00</th>\n",
       "      <td>51.600192</td>\n",
       "      <td>43.214216</td>\n",
       "    </tr>\n",
       "    <tr>\n",
       "      <th>3.00</th>\n",
       "      <td>51.603997</td>\n",
       "      <td>40.237940</td>\n",
       "    </tr>\n",
       "    <tr>\n",
       "      <th>12.00</th>\n",
       "      <td>21.000000</td>\n",
       "      <td>6.490000</td>\n",
       "    </tr>\n",
       "    <tr>\n",
       "      <th>53.37</th>\n",
       "      <td>83.000000</td>\n",
       "      <td>50.448920</td>\n",
       "    </tr>\n",
       "    <tr>\n",
       "      <th>53.42</th>\n",
       "      <td>79.000000</td>\n",
       "      <td>50.448920</td>\n",
       "    </tr>\n",
       "    <tr>\n",
       "      <th>103.00</th>\n",
       "      <td>64.000000</td>\n",
       "      <td>103.126860</td>\n",
       "    </tr>\n",
       "    <tr>\n",
       "      <th>103.25</th>\n",
       "      <td>44.000000</td>\n",
       "      <td>103.126860</td>\n",
       "    </tr>\n",
       "    <tr>\n",
       "      <th>103.75</th>\n",
       "      <td>64.000000</td>\n",
       "      <td>103.126860</td>\n",
       "    </tr>\n",
       "    <tr>\n",
       "      <th>103.88</th>\n",
       "      <td>15.000000</td>\n",
       "      <td>103.896960</td>\n",
       "    </tr>\n",
       "    <tr>\n",
       "      <th>103.91</th>\n",
       "      <td>15.000000</td>\n",
       "      <td>103.896960</td>\n",
       "    </tr>\n",
       "  </tbody>\n",
       "</table>\n",
       "</div>"
      ],
      "text/plain": [
       "               Episode_Title  Listening_Time_minutes\n",
       "Number_of_Ads                                       \n",
       "0.00               51.183623               49.073105\n",
       "1.00               51.480140               47.273397\n",
       "2.00               51.600192               43.214216\n",
       "3.00               51.603997               40.237940\n",
       "12.00              21.000000                6.490000\n",
       "53.37              83.000000               50.448920\n",
       "53.42              79.000000               50.448920\n",
       "103.00             64.000000              103.126860\n",
       "103.25             44.000000              103.126860\n",
       "103.75             64.000000              103.126860\n",
       "103.88             15.000000              103.896960\n",
       "103.91             15.000000              103.896960"
      ]
     },
     "execution_count": 20,
     "metadata": {},
     "output_type": "execute_result"
    }
   ],
   "source": [
    "train.groupby(['Number_of_Ads']).agg({\n",
    "    \"Episode_Title\" : 'mean',\n",
    "    \"Listening_Time_minutes\" : 'mean'\n",
    "})"
   ]
  },
  {
   "cell_type": "code",
   "execution_count": 23,
   "id": "ac2a6f38",
   "metadata": {},
   "outputs": [],
   "source": [
    "# z-score\n",
    "\n",
    "train['Number_of_Ads'] = (train['Number_of_Ads'] - train['Number_of_Ads'].mean()) / train['Number_of_Ads'].std()"
   ]
  },
  {
   "cell_type": "code",
   "execution_count": 24,
   "id": "ad7f35be",
   "metadata": {},
   "outputs": [
    {
     "data": {
      "text/html": [
       "<div>\n",
       "<style scoped>\n",
       "    .dataframe tbody tr th:only-of-type {\n",
       "        vertical-align: middle;\n",
       "    }\n",
       "\n",
       "    .dataframe tbody tr th {\n",
       "        vertical-align: top;\n",
       "    }\n",
       "\n",
       "    .dataframe thead th {\n",
       "        text-align: right;\n",
       "    }\n",
       "</style>\n",
       "<table border=\"1\" class=\"dataframe\">\n",
       "  <thead>\n",
       "    <tr style=\"text-align: right;\">\n",
       "      <th></th>\n",
       "      <th>Number_of_Ads</th>\n",
       "      <th>Listening_Time_minutes</th>\n",
       "    </tr>\n",
       "  </thead>\n",
       "  <tbody>\n",
       "    <tr>\n",
       "      <th>211159</th>\n",
       "      <td>45.191357</td>\n",
       "      <td>50.44892</td>\n",
       "    </tr>\n",
       "    <tr>\n",
       "      <th>283606</th>\n",
       "      <td>89.096027</td>\n",
       "      <td>103.89696</td>\n",
       "    </tr>\n",
       "    <tr>\n",
       "      <th>436577</th>\n",
       "      <td>88.305500</td>\n",
       "      <td>103.12686</td>\n",
       "    </tr>\n",
       "    <tr>\n",
       "      <th>495919</th>\n",
       "      <td>45.234793</td>\n",
       "      <td>50.44892</td>\n",
       "    </tr>\n",
       "    <tr>\n",
       "      <th>537705</th>\n",
       "      <td>88.957034</td>\n",
       "      <td>103.12686</td>\n",
       "    </tr>\n",
       "    <tr>\n",
       "      <th>567235</th>\n",
       "      <td>9.252770</td>\n",
       "      <td>6.49000</td>\n",
       "    </tr>\n",
       "    <tr>\n",
       "      <th>602553</th>\n",
       "      <td>88.522678</td>\n",
       "      <td>103.12686</td>\n",
       "    </tr>\n",
       "    <tr>\n",
       "      <th>672139</th>\n",
       "      <td>88.522678</td>\n",
       "      <td>103.12686</td>\n",
       "    </tr>\n",
       "    <tr>\n",
       "      <th>683147</th>\n",
       "      <td>89.069966</td>\n",
       "      <td>103.89696</td>\n",
       "    </tr>\n",
       "  </tbody>\n",
       "</table>\n",
       "</div>"
      ],
      "text/plain": [
       "        Number_of_Ads  Listening_Time_minutes\n",
       "211159      45.191357                50.44892\n",
       "283606      89.096027               103.89696\n",
       "436577      88.305500               103.12686\n",
       "495919      45.234793                50.44892\n",
       "537705      88.957034               103.12686\n",
       "567235       9.252770                 6.49000\n",
       "602553      88.522678               103.12686\n",
       "672139      88.522678               103.12686\n",
       "683147      89.069966               103.89696"
      ]
     },
     "execution_count": 24,
     "metadata": {},
     "output_type": "execute_result"
    }
   ],
   "source": [
    "train.loc[abs(train['Number_of_Ads']) > 3, [\"Number_of_Ads\", \"Listening_Time_minutes\"]]"
   ]
  },
  {
   "cell_type": "code",
   "execution_count": null,
   "id": "9492d3b1",
   "metadata": {},
   "outputs": [],
   "source": []
  }
 ],
 "metadata": {
  "kernelspec": {
   "display_name": "base",
   "language": "python",
   "name": "python3"
  },
  "language_info": {
   "codemirror_mode": {
    "name": "ipython",
    "version": 3
   },
   "file_extension": ".py",
   "mimetype": "text/x-python",
   "name": "python",
   "nbconvert_exporter": "python",
   "pygments_lexer": "ipython3",
   "version": "3.11.5"
  }
 },
 "nbformat": 4,
 "nbformat_minor": 5
}
